{
 "cells": [
  {
   "cell_type": "code",
   "execution_count": 1,
   "metadata": {},
   "outputs": [],
   "source": [
    "from langdetect import DetectorFactory\n",
    "DetectorFactory.seed = 0"
   ]
  },
  {
   "cell_type": "code",
   "execution_count": 2,
   "metadata": {},
   "outputs": [
    {
     "data": {
      "text/plain": [
       "'sw'"
      ]
     },
     "execution_count": 2,
     "metadata": {},
     "output_type": "execute_result"
    }
   ],
   "source": [
    "# Detect the language of the sentence\n",
    "from langdetect import detect\n",
    "sentence = \"Tanzania ni nchi inayoongoza kwa utalii barani afrika\"\n",
    "detect(sentence)"
   ]
  },
  {
   "cell_type": "code",
   "execution_count": 3,
   "metadata": {},
   "outputs": [
    {
     "data": {
      "text/plain": [
       "[sw:0.9999971210408874]"
      ]
     },
     "execution_count": 3,
     "metadata": {},
     "output_type": "execute_result"
    }
   ],
   "source": [
    "# show probabilities for the top languages\n",
    "from langdetect import detect_langs\n",
    "sentence = \"Tanzania ni nchi inayoongoza kwa utalii barani afrika\"\n",
    "detect_langs(sentence)"
   ]
  },
  {
   "cell_type": "code",
   "execution_count": 4,
   "metadata": {
    "scrolled": true
   },
   "outputs": [
    {
     "name": "stdout",
     "output_type": "stream",
     "text": [
      "Tanzania is a leading tourist destination in Africa \n"
     ]
    }
   ],
   "source": [
    "# translate a sentence from swahili to english langauge\n",
    "\n",
    "from google_trans_new import google_translator  \n",
    "\n",
    "translator = google_translator()\n",
    "sentence = \"Tanzania ni nchi inayoongoza kwa utalii barani afrika\"\n",
    "translate_text = translator.translate(sentence,lang_tgt='en')  \n",
    "print(translate_text)"
   ]
  },
  {
   "cell_type": "code",
   "execution_count": 5,
   "metadata": {},
   "outputs": [],
   "source": [
    "from langdetect import detect\n",
    "from google_trans_new import google_translator  \n",
    "\n",
    "#simple function to detect and translate text \n",
    "def detect_and_translate(text,target_lang):\n",
    "    \n",
    "    result_lang = detect(text)\n",
    "    \n",
    "    if result_lang == target_lang:\n",
    "        return text \n",
    "    \n",
    "    else:\n",
    "        translator = google_translator()\n",
    "        translate_text = translator.translate(text,lang_src=result_lang,lang_tgt=target_lang)\n",
    "        return translate_text \n",
    "        "
   ]
  },
  {
   "cell_type": "code",
   "execution_count": 6,
   "metadata": {},
   "outputs": [
    {
     "name": "stdout",
     "output_type": "stream",
     "text": [
      "Natumai kuwa, nitakapojiwekea akiba, nitaweza kusafiri kwenda Mexico \n"
     ]
    }
   ],
   "source": [
    "sentence = \"I hope that, when I’ve built up my savings, I’ll be able to travel to Mexico\"\n",
    "print(detect_and_translate(sentence,target_lang='sw'))"
   ]
  },
  {
   "cell_type": "code",
   "execution_count": 3,
   "metadata": {},
   "outputs": [],
   "source": []
  },
  {
   "cell_type": "code",
   "execution_count": null,
   "metadata": {},
   "outputs": [],
   "source": []
  },
  {
   "cell_type": "code",
   "execution_count": null,
   "metadata": {},
   "outputs": [],
   "source": []
  }
 ],
 "metadata": {
  "kernelspec": {
   "display_name": "Python 3",
   "language": "python",
   "name": "python3"
  },
  "language_info": {
   "codemirror_mode": {
    "name": "ipython",
    "version": 3
   },
   "file_extension": ".py",
   "mimetype": "text/x-python",
   "name": "python",
   "nbconvert_exporter": "python",
   "pygments_lexer": "ipython3",
   "version": "3.8.3"
  }
 },
 "nbformat": 4,
 "nbformat_minor": 4
}
